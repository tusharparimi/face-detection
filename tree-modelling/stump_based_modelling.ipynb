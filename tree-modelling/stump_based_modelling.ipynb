{
 "cells": [
  {
   "cell_type": "code",
   "execution_count": 11,
   "metadata": {},
   "outputs": [],
   "source": [
    "import pandas as pd\n",
    "import pickle\n",
    "from sklearn.ensemble import AdaBoostClassifier\n",
    "from sklearn.model_selection import train_test_split\n",
    "from sklearn.metrics import accuracy_score\n",
    "import numpy as np"
   ]
  },
  {
   "cell_type": "code",
   "execution_count": 3,
   "metadata": {},
   "outputs": [
    {
     "data": {
      "text/html": [
       "<div>\n",
       "<style scoped>\n",
       "    .dataframe tbody tr th:only-of-type {\n",
       "        vertical-align: middle;\n",
       "    }\n",
       "\n",
       "    .dataframe tbody tr th {\n",
       "        vertical-align: top;\n",
       "    }\n",
       "\n",
       "    .dataframe thead th {\n",
       "        text-align: right;\n",
       "    }\n",
       "</style>\n",
       "<table border=\"1\" class=\"dataframe\">\n",
       "  <thead>\n",
       "    <tr style=\"text-align: right;\">\n",
       "      <th></th>\n",
       "      <th>faced</th>\n",
       "      <th>rect2_hort_1x2_(0,0)</th>\n",
       "      <th>rect2_hort_1x2_(0,2)</th>\n",
       "      <th>rect2_hort_1x2_(0,4)</th>\n",
       "      <th>rect2_hort_1x2_(0,6)</th>\n",
       "      <th>rect2_hort_1x2_(0,8)</th>\n",
       "      <th>rect2_hort_1x2_(0,10)</th>\n",
       "      <th>rect2_hort_1x2_(0,12)</th>\n",
       "      <th>rect2_hort_1x2_(0,14)</th>\n",
       "      <th>rect2_hort_1x2_(0,16)</th>\n",
       "      <th>...</th>\n",
       "      <th>rect4_diag_24x15_(0,0)</th>\n",
       "      <th>rect4_diag_24x16_(0,0)</th>\n",
       "      <th>rect4_diag_24x17_(0,0)</th>\n",
       "      <th>rect4_diag_24x18_(0,0)</th>\n",
       "      <th>rect4_diag_24x19_(0,0)</th>\n",
       "      <th>rect4_diag_24x20_(0,0)</th>\n",
       "      <th>rect4_diag_24x21_(0,0)</th>\n",
       "      <th>rect4_diag_24x22_(0,0)</th>\n",
       "      <th>rect4_diag_24x23_(0,0)</th>\n",
       "      <th>rect4_diag_24x24_(0,0)</th>\n",
       "    </tr>\n",
       "  </thead>\n",
       "  <tbody>\n",
       "    <tr>\n",
       "      <th>0</th>\n",
       "      <td>1</td>\n",
       "      <td>149</td>\n",
       "      <td>219</td>\n",
       "      <td>213</td>\n",
       "      <td>163</td>\n",
       "      <td>69</td>\n",
       "      <td>10</td>\n",
       "      <td>5</td>\n",
       "      <td>41</td>\n",
       "      <td>127</td>\n",
       "      <td>...</td>\n",
       "      <td>12935</td>\n",
       "      <td>13852</td>\n",
       "      <td>13852</td>\n",
       "      <td>15049</td>\n",
       "      <td>15049</td>\n",
       "      <td>17847</td>\n",
       "      <td>17847</td>\n",
       "      <td>21412</td>\n",
       "      <td>21412</td>\n",
       "      <td>27238</td>\n",
       "    </tr>\n",
       "    <tr>\n",
       "      <th>1</th>\n",
       "      <td>1</td>\n",
       "      <td>67</td>\n",
       "      <td>61</td>\n",
       "      <td>167</td>\n",
       "      <td>131</td>\n",
       "      <td>98</td>\n",
       "      <td>70</td>\n",
       "      <td>101</td>\n",
       "      <td>147</td>\n",
       "      <td>140</td>\n",
       "      <td>...</td>\n",
       "      <td>15183</td>\n",
       "      <td>18266</td>\n",
       "      <td>18266</td>\n",
       "      <td>21658</td>\n",
       "      <td>21658</td>\n",
       "      <td>25621</td>\n",
       "      <td>25621</td>\n",
       "      <td>29981</td>\n",
       "      <td>29981</td>\n",
       "      <td>34291</td>\n",
       "    </tr>\n",
       "    <tr>\n",
       "      <th>2</th>\n",
       "      <td>1</td>\n",
       "      <td>214</td>\n",
       "      <td>185</td>\n",
       "      <td>140</td>\n",
       "      <td>217</td>\n",
       "      <td>168</td>\n",
       "      <td>121</td>\n",
       "      <td>112</td>\n",
       "      <td>128</td>\n",
       "      <td>179</td>\n",
       "      <td>...</td>\n",
       "      <td>28633</td>\n",
       "      <td>32138</td>\n",
       "      <td>32138</td>\n",
       "      <td>34964</td>\n",
       "      <td>34964</td>\n",
       "      <td>36508</td>\n",
       "      <td>36508</td>\n",
       "      <td>38672</td>\n",
       "      <td>38672</td>\n",
       "      <td>40664</td>\n",
       "    </tr>\n",
       "    <tr>\n",
       "      <th>3</th>\n",
       "      <td>1</td>\n",
       "      <td>191</td>\n",
       "      <td>186</td>\n",
       "      <td>185</td>\n",
       "      <td>154</td>\n",
       "      <td>11</td>\n",
       "      <td>2</td>\n",
       "      <td>1</td>\n",
       "      <td>2</td>\n",
       "      <td>18</td>\n",
       "      <td>...</td>\n",
       "      <td>19978</td>\n",
       "      <td>22309</td>\n",
       "      <td>22309</td>\n",
       "      <td>25315</td>\n",
       "      <td>25315</td>\n",
       "      <td>28806</td>\n",
       "      <td>28806</td>\n",
       "      <td>33447</td>\n",
       "      <td>33447</td>\n",
       "      <td>38013</td>\n",
       "    </tr>\n",
       "    <tr>\n",
       "      <th>4</th>\n",
       "      <td>1</td>\n",
       "      <td>245</td>\n",
       "      <td>199</td>\n",
       "      <td>149</td>\n",
       "      <td>148</td>\n",
       "      <td>90</td>\n",
       "      <td>69</td>\n",
       "      <td>100</td>\n",
       "      <td>83</td>\n",
       "      <td>121</td>\n",
       "      <td>...</td>\n",
       "      <td>16529</td>\n",
       "      <td>17651</td>\n",
       "      <td>17651</td>\n",
       "      <td>18739</td>\n",
       "      <td>18739</td>\n",
       "      <td>20998</td>\n",
       "      <td>20998</td>\n",
       "      <td>24066</td>\n",
       "      <td>24066</td>\n",
       "      <td>27588</td>\n",
       "    </tr>\n",
       "  </tbody>\n",
       "</table>\n",
       "<p>5 rows × 17713 columns</p>\n",
       "</div>"
      ],
      "text/plain": [
       "   faced  rect2_hort_1x2_(0,0)  rect2_hort_1x2_(0,2)  rect2_hort_1x2_(0,4)  \\\n",
       "0      1                   149                   219                   213   \n",
       "1      1                    67                    61                   167   \n",
       "2      1                   214                   185                   140   \n",
       "3      1                   191                   186                   185   \n",
       "4      1                   245                   199                   149   \n",
       "\n",
       "   rect2_hort_1x2_(0,6)  rect2_hort_1x2_(0,8)  rect2_hort_1x2_(0,10)  \\\n",
       "0                   163                    69                     10   \n",
       "1                   131                    98                     70   \n",
       "2                   217                   168                    121   \n",
       "3                   154                    11                      2   \n",
       "4                   148                    90                     69   \n",
       "\n",
       "   rect2_hort_1x2_(0,12)  rect2_hort_1x2_(0,14)  rect2_hort_1x2_(0,16)  ...  \\\n",
       "0                      5                     41                    127  ...   \n",
       "1                    101                    147                    140  ...   \n",
       "2                    112                    128                    179  ...   \n",
       "3                      1                      2                     18  ...   \n",
       "4                    100                     83                    121  ...   \n",
       "\n",
       "   rect4_diag_24x15_(0,0)  rect4_diag_24x16_(0,0)  rect4_diag_24x17_(0,0)  \\\n",
       "0                   12935                   13852                   13852   \n",
       "1                   15183                   18266                   18266   \n",
       "2                   28633                   32138                   32138   \n",
       "3                   19978                   22309                   22309   \n",
       "4                   16529                   17651                   17651   \n",
       "\n",
       "   rect4_diag_24x18_(0,0)  rect4_diag_24x19_(0,0)  rect4_diag_24x20_(0,0)  \\\n",
       "0                   15049                   15049                   17847   \n",
       "1                   21658                   21658                   25621   \n",
       "2                   34964                   34964                   36508   \n",
       "3                   25315                   25315                   28806   \n",
       "4                   18739                   18739                   20998   \n",
       "\n",
       "   rect4_diag_24x21_(0,0)  rect4_diag_24x22_(0,0)  rect4_diag_24x23_(0,0)  \\\n",
       "0                   17847                   21412                   21412   \n",
       "1                   25621                   29981                   29981   \n",
       "2                   36508                   38672                   38672   \n",
       "3                   28806                   33447                   33447   \n",
       "4                   20998                   24066                   24066   \n",
       "\n",
       "   rect4_diag_24x24_(0,0)  \n",
       "0                   27238  \n",
       "1                   34291  \n",
       "2                   40664  \n",
       "3                   38013  \n",
       "4                   27588  \n",
       "\n",
       "[5 rows x 17713 columns]"
      ]
     },
     "execution_count": 3,
     "metadata": {},
     "output_type": "execute_result"
    }
   ],
   "source": [
    "#reading the csv (big file more than 1 GB)\n",
    "df=pd.read_csv(\"..\\\\reduced_features_data24_test.csv\")\n",
    "df.head()"
   ]
  },
  {
   "cell_type": "code",
   "execution_count": 4,
   "metadata": {},
   "outputs": [
    {
     "data": {
      "text/plain": [
       "(22880, 17713)"
      ]
     },
     "execution_count": 4,
     "metadata": {},
     "output_type": "execute_result"
    }
   ],
   "source": [
    "df.shape"
   ]
  },
  {
   "cell_type": "code",
   "execution_count": 5,
   "metadata": {},
   "outputs": [
    {
     "data": {
      "text/plain": [
       "faced\n",
       "1    11440\n",
       "0    11440\n",
       "Name: count, dtype: int64"
      ]
     },
     "execution_count": 5,
     "metadata": {},
     "output_type": "execute_result"
    }
   ],
   "source": [
    "df[\"faced\"].value_counts()"
   ]
  },
  {
   "cell_type": "code",
   "execution_count": 18,
   "metadata": {},
   "outputs": [
    {
     "name": "stdout",
     "output_type": "stream",
     "text": [
      "5040\n",
      "5040\n",
      "4032\n",
      "3600\n"
     ]
    }
   ],
   "source": [
    "cols=[col for col in df.columns if col.startswith(\"rect2_hort\")]\n",
    "print(len(cols))\n",
    "cols=[col for col in df.columns if col.startswith(\"rect2_vert\")]\n",
    "print(len(cols))\n",
    "cols=[col for col in df.columns if col.startswith(\"rect3_hort\")]\n",
    "print(len(cols))\n",
    "cols=[col for col in df.columns if col.startswith(\"rect4_diag\")]\n",
    "print(len(cols))"
   ]
  },
  {
   "cell_type": "markdown",
   "metadata": {},
   "source": [
    "### AdaBoost decision stumps"
   ]
  },
  {
   "cell_type": "code",
   "execution_count": 8,
   "metadata": {},
   "outputs": [
    {
     "name": "stdout",
     "output_type": "stream",
     "text": [
      "0.956\n"
     ]
    }
   ],
   "source": [
    "#Training just using the rect2_hort features\n",
    "#AdaBoost\n",
    "\n",
    "cols=[col for col in df.columns if col.startswith(\"rect2_hort\")]\n",
    "X=df[cols]\n",
    "y=df[[\"faced\"]]\n",
    "X_train, X_test, y_train, y_test = train_test_split(X, y, test_size=0.30, random_state=0)\n",
    "\n",
    "ab_clf = AdaBoostClassifier(random_state=0)\n",
    "ab_clf.fit(X_train, np.ravel(y_train))\n",
    "\n",
    "predictions = ab_clf.predict(X_test)\n",
    "print(round(accuracy_score(y_test, predictions),3))"
   ]
  },
  {
   "cell_type": "code",
   "execution_count": 10,
   "metadata": {},
   "outputs": [],
   "source": [
    "#save the model using pickle\n",
    "pickle.dump(ab_clf, open(\"ab_rect2hort.sav\", 'wb'))"
   ]
  },
  {
   "cell_type": "code",
   "execution_count": 12,
   "metadata": {},
   "outputs": [
    {
     "name": "stdout",
     "output_type": "stream",
     "text": [
      "0.953\n"
     ]
    }
   ],
   "source": [
    "#Training just using the rect2_vert features\n",
    "#AdaBoost\n",
    "\n",
    "cols=[col for col in df.columns if col.startswith(\"rect2_vert\")]\n",
    "X=df[cols]\n",
    "y=df[[\"faced\"]]\n",
    "X_train, X_test, y_train, y_test = train_test_split(X, y, test_size=0.30, random_state=0)\n",
    "\n",
    "ab_clf = AdaBoostClassifier(random_state=0)\n",
    "ab_clf.fit(X_train, np.ravel(y_train))\n",
    "\n",
    "predictions = ab_clf.predict(X_test)\n",
    "print(round(accuracy_score(y_test, predictions),3))"
   ]
  },
  {
   "cell_type": "code",
   "execution_count": 13,
   "metadata": {},
   "outputs": [],
   "source": [
    "#save the model using pickle\n",
    "pickle.dump(ab_clf, open(\"ab_rect2vert.sav\", 'wb'))"
   ]
  },
  {
   "cell_type": "code",
   "execution_count": 14,
   "metadata": {},
   "outputs": [
    {
     "name": "stdout",
     "output_type": "stream",
     "text": [
      "0.946\n"
     ]
    }
   ],
   "source": [
    "#Training just using the rect3_hort features\n",
    "#AdaBoost\n",
    "\n",
    "cols=[col for col in df.columns if col.startswith(\"rect3_hort\")]\n",
    "X=df[cols]\n",
    "y=df[[\"faced\"]]\n",
    "X_train, X_test, y_train, y_test = train_test_split(X, y, test_size=0.30, random_state=0)\n",
    "\n",
    "ab_clf = AdaBoostClassifier(random_state=0)\n",
    "ab_clf.fit(X_train, np.ravel(y_train))\n",
    "\n",
    "predictions = ab_clf.predict(X_test)\n",
    "print(round(accuracy_score(y_test, predictions),3))"
   ]
  },
  {
   "cell_type": "code",
   "execution_count": 15,
   "metadata": {},
   "outputs": [],
   "source": [
    "#save the Random Forest model using pickle\n",
    "pickle.dump(ab_clf, open(\"ab_rect3hort.sav\", 'wb'))"
   ]
  },
  {
   "cell_type": "code",
   "execution_count": 16,
   "metadata": {},
   "outputs": [
    {
     "name": "stdout",
     "output_type": "stream",
     "text": [
      "0.943\n"
     ]
    }
   ],
   "source": [
    "#Training just using the rect4_diag features\n",
    "#AdaBoost\n",
    "\n",
    "cols=[col for col in df.columns if col.startswith(\"rect4_diag\")]\n",
    "X=df[cols]\n",
    "y=df[[\"faced\"]]\n",
    "X_train, X_test, y_train, y_test = train_test_split(X, y, test_size=0.30, random_state=0)\n",
    "\n",
    "ab_clf = AdaBoostClassifier(random_state=0)\n",
    "ab_clf.fit(X_train, np.ravel(y_train))\n",
    "\n",
    "predictions = ab_clf.predict(X_test)\n",
    "print(round(accuracy_score(y_test, predictions),3))"
   ]
  },
  {
   "cell_type": "code",
   "execution_count": 17,
   "metadata": {},
   "outputs": [],
   "source": [
    "#save the Random Forest model using pickle\n",
    "pickle.dump(ab_clf, open(\"ab_rect4diag.sav\", 'wb'))"
   ]
  },
  {
   "cell_type": "code",
   "execution_count": null,
   "metadata": {},
   "outputs": [],
   "source": []
  }
 ],
 "metadata": {
  "kernelspec": {
   "display_name": "base",
   "language": "python",
   "name": "python3"
  },
  "language_info": {
   "codemirror_mode": {
    "name": "ipython",
    "version": 3
   },
   "file_extension": ".py",
   "mimetype": "text/x-python",
   "name": "python",
   "nbconvert_exporter": "python",
   "pygments_lexer": "ipython3",
   "version": "3.11.5"
  }
 },
 "nbformat": 4,
 "nbformat_minor": 2
}
