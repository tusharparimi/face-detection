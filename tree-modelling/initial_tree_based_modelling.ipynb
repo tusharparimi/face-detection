{
  "cells": [
    {
      "cell_type": "code",
      "execution_count": null,
      "metadata": {
        "colab": {
          "base_uri": "https://localhost:8080/"
        },
        "id": "tCN269BbOPKS",
        "outputId": "83054f1b-2a3e-41e3-f711-029504d0b36d"
      },
      "outputs": [],
      "source": [
        "'''\n",
        "Only use this cell if running the file on google colab and need to read datasets as zip files from drive \n",
        "'''\n",
        "#Extracting the zipfile in google drive\n",
        "import zipfile\n",
        "from google.colab import drive\n",
        "\n",
        "drive.mount('/content/drive/')\n",
        "\n",
        "zip_ref = zipfile.ZipFile(\"/content/drive/My Drive/reduced_features_data24_test.zip\", 'r')\n",
        "zip_ref.extractall(\"/tmp\")\n",
        "zip_ref.close()\n"
      ]
    },
    {
      "cell_type": "code",
      "execution_count": 12,
      "metadata": {
        "id": "yY8ehX5VQBgR"
      },
      "outputs": [],
      "source": [
        "#importing necessary libraries\n",
        "import pandas as pd\n",
        "from sklearn.tree import DecisionTreeClassifier\n",
        "from sklearn.model_selection import train_test_split\n",
        "from sklearn.metrics import accuracy_score\n",
        "from sklearn.model_selection import cross_val_score\n",
        "import pickle"
      ]
    },
    {
      "cell_type": "code",
      "execution_count": 13,
      "metadata": {
        "colab": {
          "base_uri": "https://localhost:8080/",
          "height": 299
        },
        "id": "NifH0atMPiWq",
        "outputId": "3aa9efe7-fe33-44c3-9eea-bb938f3e20ad"
      },
      "outputs": [
        {
          "data": {
            "text/html": [
              "<div>\n",
              "<style scoped>\n",
              "    .dataframe tbody tr th:only-of-type {\n",
              "        vertical-align: middle;\n",
              "    }\n",
              "\n",
              "    .dataframe tbody tr th {\n",
              "        vertical-align: top;\n",
              "    }\n",
              "\n",
              "    .dataframe thead th {\n",
              "        text-align: right;\n",
              "    }\n",
              "</style>\n",
              "<table border=\"1\" class=\"dataframe\">\n",
              "  <thead>\n",
              "    <tr style=\"text-align: right;\">\n",
              "      <th></th>\n",
              "      <th>faced</th>\n",
              "      <th>rect2_hort_1x2_(0,0)</th>\n",
              "      <th>rect2_hort_1x2_(0,2)</th>\n",
              "      <th>rect2_hort_1x2_(0,4)</th>\n",
              "      <th>rect2_hort_1x2_(0,6)</th>\n",
              "      <th>rect2_hort_1x2_(0,8)</th>\n",
              "      <th>rect2_hort_1x2_(0,10)</th>\n",
              "      <th>rect2_hort_1x2_(0,12)</th>\n",
              "      <th>rect2_hort_1x2_(0,14)</th>\n",
              "      <th>rect2_hort_1x2_(0,16)</th>\n",
              "      <th>...</th>\n",
              "      <th>rect4_diag_24x15_(0,0)</th>\n",
              "      <th>rect4_diag_24x16_(0,0)</th>\n",
              "      <th>rect4_diag_24x17_(0,0)</th>\n",
              "      <th>rect4_diag_24x18_(0,0)</th>\n",
              "      <th>rect4_diag_24x19_(0,0)</th>\n",
              "      <th>rect4_diag_24x20_(0,0)</th>\n",
              "      <th>rect4_diag_24x21_(0,0)</th>\n",
              "      <th>rect4_diag_24x22_(0,0)</th>\n",
              "      <th>rect4_diag_24x23_(0,0)</th>\n",
              "      <th>rect4_diag_24x24_(0,0)</th>\n",
              "    </tr>\n",
              "  </thead>\n",
              "  <tbody>\n",
              "    <tr>\n",
              "      <th>0</th>\n",
              "      <td>1</td>\n",
              "      <td>149</td>\n",
              "      <td>219</td>\n",
              "      <td>213</td>\n",
              "      <td>163</td>\n",
              "      <td>69</td>\n",
              "      <td>10</td>\n",
              "      <td>5</td>\n",
              "      <td>41</td>\n",
              "      <td>127</td>\n",
              "      <td>...</td>\n",
              "      <td>12935</td>\n",
              "      <td>13852</td>\n",
              "      <td>13852</td>\n",
              "      <td>15049</td>\n",
              "      <td>15049</td>\n",
              "      <td>17847</td>\n",
              "      <td>17847</td>\n",
              "      <td>21412</td>\n",
              "      <td>21412</td>\n",
              "      <td>27238</td>\n",
              "    </tr>\n",
              "    <tr>\n",
              "      <th>1</th>\n",
              "      <td>1</td>\n",
              "      <td>67</td>\n",
              "      <td>61</td>\n",
              "      <td>167</td>\n",
              "      <td>131</td>\n",
              "      <td>98</td>\n",
              "      <td>70</td>\n",
              "      <td>101</td>\n",
              "      <td>147</td>\n",
              "      <td>140</td>\n",
              "      <td>...</td>\n",
              "      <td>15183</td>\n",
              "      <td>18266</td>\n",
              "      <td>18266</td>\n",
              "      <td>21658</td>\n",
              "      <td>21658</td>\n",
              "      <td>25621</td>\n",
              "      <td>25621</td>\n",
              "      <td>29981</td>\n",
              "      <td>29981</td>\n",
              "      <td>34291</td>\n",
              "    </tr>\n",
              "    <tr>\n",
              "      <th>2</th>\n",
              "      <td>1</td>\n",
              "      <td>214</td>\n",
              "      <td>185</td>\n",
              "      <td>140</td>\n",
              "      <td>217</td>\n",
              "      <td>168</td>\n",
              "      <td>121</td>\n",
              "      <td>112</td>\n",
              "      <td>128</td>\n",
              "      <td>179</td>\n",
              "      <td>...</td>\n",
              "      <td>28633</td>\n",
              "      <td>32138</td>\n",
              "      <td>32138</td>\n",
              "      <td>34964</td>\n",
              "      <td>34964</td>\n",
              "      <td>36508</td>\n",
              "      <td>36508</td>\n",
              "      <td>38672</td>\n",
              "      <td>38672</td>\n",
              "      <td>40664</td>\n",
              "    </tr>\n",
              "    <tr>\n",
              "      <th>3</th>\n",
              "      <td>1</td>\n",
              "      <td>191</td>\n",
              "      <td>186</td>\n",
              "      <td>185</td>\n",
              "      <td>154</td>\n",
              "      <td>11</td>\n",
              "      <td>2</td>\n",
              "      <td>1</td>\n",
              "      <td>2</td>\n",
              "      <td>18</td>\n",
              "      <td>...</td>\n",
              "      <td>19978</td>\n",
              "      <td>22309</td>\n",
              "      <td>22309</td>\n",
              "      <td>25315</td>\n",
              "      <td>25315</td>\n",
              "      <td>28806</td>\n",
              "      <td>28806</td>\n",
              "      <td>33447</td>\n",
              "      <td>33447</td>\n",
              "      <td>38013</td>\n",
              "    </tr>\n",
              "    <tr>\n",
              "      <th>4</th>\n",
              "      <td>1</td>\n",
              "      <td>245</td>\n",
              "      <td>199</td>\n",
              "      <td>149</td>\n",
              "      <td>148</td>\n",
              "      <td>90</td>\n",
              "      <td>69</td>\n",
              "      <td>100</td>\n",
              "      <td>83</td>\n",
              "      <td>121</td>\n",
              "      <td>...</td>\n",
              "      <td>16529</td>\n",
              "      <td>17651</td>\n",
              "      <td>17651</td>\n",
              "      <td>18739</td>\n",
              "      <td>18739</td>\n",
              "      <td>20998</td>\n",
              "      <td>20998</td>\n",
              "      <td>24066</td>\n",
              "      <td>24066</td>\n",
              "      <td>27588</td>\n",
              "    </tr>\n",
              "  </tbody>\n",
              "</table>\n",
              "<p>5 rows × 17713 columns</p>\n",
              "</div>"
            ],
            "text/plain": [
              "   faced  rect2_hort_1x2_(0,0)  rect2_hort_1x2_(0,2)  rect2_hort_1x2_(0,4)  \\\n",
              "0      1                   149                   219                   213   \n",
              "1      1                    67                    61                   167   \n",
              "2      1                   214                   185                   140   \n",
              "3      1                   191                   186                   185   \n",
              "4      1                   245                   199                   149   \n",
              "\n",
              "   rect2_hort_1x2_(0,6)  rect2_hort_1x2_(0,8)  rect2_hort_1x2_(0,10)  \\\n",
              "0                   163                    69                     10   \n",
              "1                   131                    98                     70   \n",
              "2                   217                   168                    121   \n",
              "3                   154                    11                      2   \n",
              "4                   148                    90                     69   \n",
              "\n",
              "   rect2_hort_1x2_(0,12)  rect2_hort_1x2_(0,14)  rect2_hort_1x2_(0,16)  ...  \\\n",
              "0                      5                     41                    127  ...   \n",
              "1                    101                    147                    140  ...   \n",
              "2                    112                    128                    179  ...   \n",
              "3                      1                      2                     18  ...   \n",
              "4                    100                     83                    121  ...   \n",
              "\n",
              "   rect4_diag_24x15_(0,0)  rect4_diag_24x16_(0,0)  rect4_diag_24x17_(0,0)  \\\n",
              "0                   12935                   13852                   13852   \n",
              "1                   15183                   18266                   18266   \n",
              "2                   28633                   32138                   32138   \n",
              "3                   19978                   22309                   22309   \n",
              "4                   16529                   17651                   17651   \n",
              "\n",
              "   rect4_diag_24x18_(0,0)  rect4_diag_24x19_(0,0)  rect4_diag_24x20_(0,0)  \\\n",
              "0                   15049                   15049                   17847   \n",
              "1                   21658                   21658                   25621   \n",
              "2                   34964                   34964                   36508   \n",
              "3                   25315                   25315                   28806   \n",
              "4                   18739                   18739                   20998   \n",
              "\n",
              "   rect4_diag_24x21_(0,0)  rect4_diag_24x22_(0,0)  rect4_diag_24x23_(0,0)  \\\n",
              "0                   17847                   21412                   21412   \n",
              "1                   25621                   29981                   29981   \n",
              "2                   36508                   38672                   38672   \n",
              "3                   28806                   33447                   33447   \n",
              "4                   20998                   24066                   24066   \n",
              "\n",
              "   rect4_diag_24x24_(0,0)  \n",
              "0                   27238  \n",
              "1                   34291  \n",
              "2                   40664  \n",
              "3                   38013  \n",
              "4                   27588  \n",
              "\n",
              "[5 rows x 17713 columns]"
            ]
          },
          "execution_count": 13,
          "metadata": {},
          "output_type": "execute_result"
        }
      ],
      "source": [
        "#reading the csv (big file more than 1 GB)\n",
        "df=pd.read_csv(\"..\\\\reduced_features_data24_test.csv\")\n",
        "df.head()"
      ]
    },
    {
      "cell_type": "code",
      "execution_count": 14,
      "metadata": {
        "colab": {
          "base_uri": "https://localhost:8080/"
        },
        "id": "BlXlSxVwRDE5",
        "outputId": "5a9e3b9c-9d3a-46d1-ed29-02509bbd1d51"
      },
      "outputs": [
        {
          "data": {
            "text/plain": [
              "(22880, 17713)"
            ]
          },
          "execution_count": 14,
          "metadata": {},
          "output_type": "execute_result"
        }
      ],
      "source": [
        "df.shape"
      ]
    },
    {
      "cell_type": "code",
      "execution_count": 15,
      "metadata": {
        "colab": {
          "base_uri": "https://localhost:8080/"
        },
        "id": "AsSjFlhaREK1",
        "outputId": "1f81aafa-3a9a-4eba-d881-d901638c7cc3"
      },
      "outputs": [
        {
          "data": {
            "text/plain": [
              "faced\n",
              "1    11440\n",
              "0    11440\n",
              "Name: count, dtype: int64"
            ]
          },
          "execution_count": 15,
          "metadata": {},
          "output_type": "execute_result"
        }
      ],
      "source": [
        "df[\"faced\"].value_counts()"
      ]
    },
    {
      "cell_type": "code",
      "execution_count": 16,
      "metadata": {
        "colab": {
          "base_uri": "https://localhost:8080/"
        },
        "id": "ltXclkA5RHpE",
        "outputId": "afcebb12-802b-4b97-86cd-99441e1de1ae"
      },
      "outputs": [
        {
          "name": "stdout",
          "output_type": "stream",
          "text": [
            "0.936\n"
          ]
        }
      ],
      "source": [
        "#Decision Tree\n",
        "\n",
        "\n",
        "from sklearn.tree import DecisionTreeClassifier\n",
        "from sklearn.model_selection import train_test_split\n",
        "from sklearn.metrics import accuracy_score\n",
        "\n",
        "X=df.iloc[:, 1:]\n",
        "y=df[[\"faced\"]]\n",
        "X_train, X_test, y_train, y_test = train_test_split(X, y, test_size=0.30, random_state=0)\n",
        "\n",
        "clf = DecisionTreeClassifier(random_state=0)\n",
        "clf.fit(X_train, y_train)\n",
        "\n",
        "predictions = clf.predict(X_test)\n",
        "print(round(accuracy_score(y_test, predictions),3))"
      ]
    },
    {
      "cell_type": "code",
      "execution_count": 17,
      "metadata": {},
      "outputs": [],
      "source": [
        "#save the decision tree model using pickle\n",
        "pickle.dump(clf, open(\"face_dt.sav\", 'wb'))"
      ]
    },
    {
      "cell_type": "code",
      "execution_count": null,
      "metadata": {
        "colab": {
          "base_uri": "https://localhost:8080/"
        },
        "id": "OYlASFdNUJpZ",
        "outputId": "e39b8043-a85a-4b35-c403-e584006d9f5c"
      },
      "outputs": [
        {
          "name": "stdout",
          "output_type": "stream",
          "text": [
            "Mean score of 0.933 with a standard deviation of 0.003\n"
          ]
        }
      ],
      "source": [
        "#(5)-fold cross validation\n",
        "from sklearn.model_selection import cross_val_score\n",
        "\n",
        "X=df.iloc[:, 1:]\n",
        "y=df[[\"faced\"]]\n",
        "X_train, X_test, y_train, y_test = train_test_split(X, y, test_size=0.30, random_state=0)\n",
        "\n",
        "clf = DecisionTreeClassifier(random_state=0)\n",
        "scores=cross_val_score(clf, X, y, cv=5)\n",
        "print(\"Mean score of %0.3f with a standard deviation of %0.3f\" % (scores.mean(), scores.std()))\n"
      ]
    },
    {
      "cell_type": "code",
      "execution_count": null,
      "metadata": {
        "colab": {
          "base_uri": "https://localhost:8080/"
        },
        "id": "j5C2IYNPuvFY",
        "outputId": "10a75542-4276-4d75-8a2f-3de7c918be36"
      },
      "outputs": [
        {
          "data": {
            "text/plain": [
              "Index(['rect2_hort_1x2_(0,0)', 'rect2_hort_1x2_(0,2)', 'rect2_hort_1x2_(0,4)',\n",
              "       'rect2_hort_1x2_(0,6)', 'rect2_hort_1x2_(0,8)', 'rect2_hort_1x2_(0,10)',\n",
              "       'rect2_hort_1x2_(0,12)', 'rect2_hort_1x2_(0,14)',\n",
              "       'rect2_hort_1x2_(0,16)', 'rect2_hort_1x2_(0,18)',\n",
              "       ...\n",
              "       'rect4_diag_24x15_(0,0)', 'rect4_diag_24x16_(0,0)',\n",
              "       'rect4_diag_24x17_(0,0)', 'rect4_diag_24x18_(0,0)',\n",
              "       'rect4_diag_24x19_(0,0)', 'rect4_diag_24x20_(0,0)',\n",
              "       'rect4_diag_24x21_(0,0)', 'rect4_diag_24x22_(0,0)',\n",
              "       'rect4_diag_24x23_(0,0)', 'rect4_diag_24x24_(0,0)'],\n",
              "      dtype='object', length=17712)"
            ]
          },
          "execution_count": 6,
          "metadata": {},
          "output_type": "execute_result"
        }
      ],
      "source": [
        "X.columns"
      ]
    },
    {
      "cell_type": "code",
      "execution_count": null,
      "metadata": {
        "colab": {
          "base_uri": "https://localhost:8080/"
        },
        "id": "eKmsNnt_uwiT",
        "outputId": "61fb5867-2924-4b44-da9c-490dde390acd"
      },
      "outputs": [
        {
          "data": {
            "text/plain": [
              "Index(['faced'], dtype='object')"
            ]
          },
          "execution_count": 7,
          "metadata": {},
          "output_type": "execute_result"
        }
      ],
      "source": [
        "y.columns"
      ]
    },
    {
      "cell_type": "code",
      "execution_count": null,
      "metadata": {
        "id": "Fb5mB904u2u-"
      },
      "outputs": [],
      "source": [
        "# From simple decision tree we get an 5-fold cv mean accuracy of 93.3% with very little sd of 0.003 "
      ]
    },
    {
      "cell_type": "code",
      "execution_count": null,
      "metadata": {
        "id": "KZOrwM7Nva7L"
      },
      "outputs": [],
      "source": [
        "# Ensemble trees"
      ]
    },
    {
      "cell_type": "code",
      "execution_count": 19,
      "metadata": {},
      "outputs": [
        {
          "name": "stdout",
          "output_type": "stream",
          "text": [
            "0.978\n"
          ]
        }
      ],
      "source": [
        "#Random Forest\n",
        "\n",
        "from sklearn.ensemble import RandomForestClassifier\n",
        "from sklearn.model_selection import train_test_split\n",
        "from sklearn.metrics import accuracy_score\n",
        "import numpy as np\n",
        "\n",
        "X=df.iloc[:, 1:]\n",
        "y=df[[\"faced\"]]\n",
        "X_train, X_test, y_train, y_test = train_test_split(X, y, test_size=0.30, random_state=0)\n",
        "\n",
        "rf_clf = RandomForestClassifier(random_state=0)\n",
        "rf_clf.fit(X_train, np.ravel(y_train))\n",
        "\n",
        "predictions = rf_clf.predict(X_test)\n",
        "print(round(accuracy_score(y_test, predictions),3))"
      ]
    },
    {
      "cell_type": "code",
      "execution_count": 20,
      "metadata": {},
      "outputs": [],
      "source": [
        "#save the Random Forest model using pickle\n",
        "pickle.dump(rf_clf, open(\"face_rf.sav\", 'wb'))"
      ]
    },
    {
      "cell_type": "code",
      "execution_count": null,
      "metadata": {
        "colab": {
          "base_uri": "https://localhost:8080/"
        },
        "id": "3CwJ78S1vgzB",
        "outputId": "930ef56d-43a1-408a-f272-2d4ec5869585"
      },
      "outputs": [
        {
          "name": "stdout",
          "output_type": "stream",
          "text": [
            "Mean score of 0.979 with a standard deviation of 0.002\n"
          ]
        }
      ],
      "source": [
        "# Bagging (Random Forest)\n",
        "from sklearn.ensemble import RandomForestClassifier\n",
        "import numpy as np\n",
        "\n",
        "X=df.iloc[:, 1:]\n",
        "y=df[[\"faced\"]]\n",
        "X_train, X_test, y_train, y_test = train_test_split(X, y, test_size=0.30, random_state=0)\n",
        "\n",
        "rf_clf = RandomForestClassifier(random_state=0)\n",
        "scores=cross_val_score(rf_clf, X, np.ravel(y), cv=5)\n",
        "print(\"Mean score of %0.3f with a standard deviation of %0.3f\" % (scores.mean(), scores.std()))\n",
        "\n"
      ]
    },
    {
      "cell_type": "code",
      "execution_count": null,
      "metadata": {
        "id": "35W2wUJc1OsW"
      },
      "outputs": [],
      "source": [
        "# From Random Forest we get an 5-fold cv mean accuracy of 97.9% with very little sd of 0.002 "
      ]
    },
    {
      "cell_type": "code",
      "execution_count": 21,
      "metadata": {},
      "outputs": [
        {
          "name": "stdout",
          "output_type": "stream",
          "text": [
            "0.961\n"
          ]
        }
      ],
      "source": [
        "#AdaBoost\n",
        "\n",
        "from sklearn.ensemble import AdaBoostClassifier\n",
        "from sklearn.model_selection import train_test_split\n",
        "from sklearn.metrics import accuracy_score\n",
        "import numpy as np\n",
        "\n",
        "X=df.iloc[:, 1:]\n",
        "y=df[[\"faced\"]]\n",
        "X_train, X_test, y_train, y_test = train_test_split(X, y, test_size=0.30, random_state=0)\n",
        "\n",
        "ab_clf = AdaBoostClassifier(random_state=0)\n",
        "ab_clf.fit(X_train, np.ravel(y_train))\n",
        "\n",
        "predictions = ab_clf.predict(X_test)\n",
        "print(round(accuracy_score(y_test, predictions),3))"
      ]
    },
    {
      "cell_type": "code",
      "execution_count": 22,
      "metadata": {},
      "outputs": [],
      "source": [
        "#save the Random Forest model using pickle\n",
        "pickle.dump(ab_clf, open(\"face_ab.sav\", 'wb'))"
      ]
    },
    {
      "cell_type": "code",
      "execution_count": null,
      "metadata": {
        "colab": {
          "base_uri": "https://localhost:8080/"
        },
        "id": "2RXRpGrZ7jR1",
        "outputId": "34e8dc02-673d-4bb0-ae2f-0f781428dea8"
      },
      "outputs": [
        {
          "name": "stdout",
          "output_type": "stream",
          "text": [
            "Mean score of 0.961 with a standard deviation of 0.002\n"
          ]
        }
      ],
      "source": [
        "# Boosting (AdaBoost) (Decision tree estimator with max_depth=1 (decision stumps))\n",
        "from sklearn.ensemble import AdaBoostClassifier\n",
        "\n",
        "X=df.iloc[:, 1:]\n",
        "y=df[[\"faced\"]]\n",
        "X_train, X_test, y_train, y_test = train_test_split(X, y, test_size=0.30, random_state=0)\n",
        "\n",
        "\n",
        "ab_clf = AdaBoostClassifier(random_state=0)\n",
        "scores=cross_val_score(ab_clf, X, np.ravel(y), cv=5)\n",
        "print(\"Mean score of %0.3f with a standard deviation of %0.3f\" % (scores.mean(), scores.std()))\n"
      ]
    },
    {
      "cell_type": "code",
      "execution_count": null,
      "metadata": {
        "id": "kYwJBVnj1Y9L"
      },
      "outputs": [],
      "source": [
        "# From AdaBoost we get an 5-fold cv mean accuracy of 96.1% with very little sd of 0.002 "
      ]
    }
  ],
  "metadata": {
    "colab": {
      "machine_shape": "hm",
      "provenance": []
    },
    "kernelspec": {
      "display_name": "Python 3",
      "name": "python3"
    },
    "language_info": {
      "codemirror_mode": {
        "name": "ipython",
        "version": 3
      },
      "file_extension": ".py",
      "mimetype": "text/x-python",
      "name": "python",
      "nbconvert_exporter": "python",
      "pygments_lexer": "ipython3",
      "version": "3.11.5"
    }
  },
  "nbformat": 4,
  "nbformat_minor": 0
}
