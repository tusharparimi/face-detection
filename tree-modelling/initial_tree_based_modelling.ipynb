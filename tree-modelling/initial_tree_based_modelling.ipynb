{
  "nbformat": 4,
  "nbformat_minor": 0,
  "metadata": {
    "colab": {
      "provenance": [],
      "machine_shape": "hm"
    },
    "kernelspec": {
      "name": "python3",
      "display_name": "Python 3"
    },
    "language_info": {
      "name": "python"
    }
  },
  "cells": [
    {
      "cell_type": "code",
      "execution_count": null,
      "metadata": {
        "colab": {
          "base_uri": "https://localhost:8080/"
        },
        "id": "tCN269BbOPKS",
        "outputId": "83054f1b-2a3e-41e3-f711-029504d0b36d"
      },
      "outputs": [
        {
          "output_type": "stream",
          "name": "stdout",
          "text": [
            "Mounted at /content/drive/\n"
          ]
        }
      ],
      "source": [
        "#Extracting the zipfile in google drive\n",
        "import zipfile\n",
        "from google.colab import drive\n",
        "\n",
        "drive.mount('/content/drive/')\n",
        "\n",
        "zip_ref = zipfile.ZipFile(\"/content/drive/My Drive/reduced_features_data24_test.zip\", 'r')\n",
        "zip_ref.extractall(\"/tmp\")\n",
        "zip_ref.close()\n"
      ]
    },
    {
      "cell_type": "code",
      "source": [
        "#importing necessary libraries\n",
        "import pandas as pd\n",
        "from sklearn.tree import DecisionTreeClassifier\n",
        "from sklearn.model_selection import train_test_split\n",
        "from sklearn.metrics import accuracy_score\n",
        "from sklearn.model_selection import cross_val_score"
      ],
      "metadata": {
        "id": "yY8ehX5VQBgR"
      },
      "execution_count": null,
      "outputs": []
    },
    {
      "cell_type": "code",
      "source": [
        "#reading the csv (big file more than 1 GB)\n",
        "df=pd.read_csv(\"/tmp/tmp/reduced_features_data24_test.csv\")\n",
        "df.head()"
      ],
      "metadata": {
        "colab": {
          "base_uri": "https://localhost:8080/",
          "height": 299
        },
        "id": "NifH0atMPiWq",
        "outputId": "3aa9efe7-fe33-44c3-9eea-bb938f3e20ad"
      },
      "execution_count": null,
      "outputs": [
        {
          "output_type": "execute_result",
          "data": {
            "text/plain": [
              "   faced  rect2_hort_1x2_(0,0)  rect2_hort_1x2_(0,2)  rect2_hort_1x2_(0,4)  \\\n",
              "0      1                   149                   219                   213   \n",
              "1      1                    67                    61                   167   \n",
              "2      1                   214                   185                   140   \n",
              "3      1                   191                   186                   185   \n",
              "4      1                   245                   199                   149   \n",
              "\n",
              "   rect2_hort_1x2_(0,6)  rect2_hort_1x2_(0,8)  rect2_hort_1x2_(0,10)  \\\n",
              "0                   163                    69                     10   \n",
              "1                   131                    98                     70   \n",
              "2                   217                   168                    121   \n",
              "3                   154                    11                      2   \n",
              "4                   148                    90                     69   \n",
              "\n",
              "   rect2_hort_1x2_(0,12)  rect2_hort_1x2_(0,14)  rect2_hort_1x2_(0,16)  ...  \\\n",
              "0                      5                     41                    127  ...   \n",
              "1                    101                    147                    140  ...   \n",
              "2                    112                    128                    179  ...   \n",
              "3                      1                      2                     18  ...   \n",
              "4                    100                     83                    121  ...   \n",
              "\n",
              "   rect4_diag_24x15_(0,0)  rect4_diag_24x16_(0,0)  rect4_diag_24x17_(0,0)  \\\n",
              "0                   12935                   13852                   13852   \n",
              "1                   15183                   18266                   18266   \n",
              "2                   28633                   32138                   32138   \n",
              "3                   19978                   22309                   22309   \n",
              "4                   16529                   17651                   17651   \n",
              "\n",
              "   rect4_diag_24x18_(0,0)  rect4_diag_24x19_(0,0)  rect4_diag_24x20_(0,0)  \\\n",
              "0                   15049                   15049                   17847   \n",
              "1                   21658                   21658                   25621   \n",
              "2                   34964                   34964                   36508   \n",
              "3                   25315                   25315                   28806   \n",
              "4                   18739                   18739                   20998   \n",
              "\n",
              "   rect4_diag_24x21_(0,0)  rect4_diag_24x22_(0,0)  rect4_diag_24x23_(0,0)  \\\n",
              "0                   17847                   21412                   21412   \n",
              "1                   25621                   29981                   29981   \n",
              "2                   36508                   38672                   38672   \n",
              "3                   28806                   33447                   33447   \n",
              "4                   20998                   24066                   24066   \n",
              "\n",
              "   rect4_diag_24x24_(0,0)  \n",
              "0                   27238  \n",
              "1                   34291  \n",
              "2                   40664  \n",
              "3                   38013  \n",
              "4                   27588  \n",
              "\n",
              "[5 rows x 17713 columns]"
            ],
            "text/html": [
              "\n",
              "  <div id=\"df-bd1efee2-0883-4719-83bf-5b234f5096cc\">\n",
              "    <div class=\"colab-df-container\">\n",
              "      <div>\n",
              "<style scoped>\n",
              "    .dataframe tbody tr th:only-of-type {\n",
              "        vertical-align: middle;\n",
              "    }\n",
              "\n",
              "    .dataframe tbody tr th {\n",
              "        vertical-align: top;\n",
              "    }\n",
              "\n",
              "    .dataframe thead th {\n",
              "        text-align: right;\n",
              "    }\n",
              "</style>\n",
              "<table border=\"1\" class=\"dataframe\">\n",
              "  <thead>\n",
              "    <tr style=\"text-align: right;\">\n",
              "      <th></th>\n",
              "      <th>faced</th>\n",
              "      <th>rect2_hort_1x2_(0,0)</th>\n",
              "      <th>rect2_hort_1x2_(0,2)</th>\n",
              "      <th>rect2_hort_1x2_(0,4)</th>\n",
              "      <th>rect2_hort_1x2_(0,6)</th>\n",
              "      <th>rect2_hort_1x2_(0,8)</th>\n",
              "      <th>rect2_hort_1x2_(0,10)</th>\n",
              "      <th>rect2_hort_1x2_(0,12)</th>\n",
              "      <th>rect2_hort_1x2_(0,14)</th>\n",
              "      <th>rect2_hort_1x2_(0,16)</th>\n",
              "      <th>...</th>\n",
              "      <th>rect4_diag_24x15_(0,0)</th>\n",
              "      <th>rect4_diag_24x16_(0,0)</th>\n",
              "      <th>rect4_diag_24x17_(0,0)</th>\n",
              "      <th>rect4_diag_24x18_(0,0)</th>\n",
              "      <th>rect4_diag_24x19_(0,0)</th>\n",
              "      <th>rect4_diag_24x20_(0,0)</th>\n",
              "      <th>rect4_diag_24x21_(0,0)</th>\n",
              "      <th>rect4_diag_24x22_(0,0)</th>\n",
              "      <th>rect4_diag_24x23_(0,0)</th>\n",
              "      <th>rect4_diag_24x24_(0,0)</th>\n",
              "    </tr>\n",
              "  </thead>\n",
              "  <tbody>\n",
              "    <tr>\n",
              "      <th>0</th>\n",
              "      <td>1</td>\n",
              "      <td>149</td>\n",
              "      <td>219</td>\n",
              "      <td>213</td>\n",
              "      <td>163</td>\n",
              "      <td>69</td>\n",
              "      <td>10</td>\n",
              "      <td>5</td>\n",
              "      <td>41</td>\n",
              "      <td>127</td>\n",
              "      <td>...</td>\n",
              "      <td>12935</td>\n",
              "      <td>13852</td>\n",
              "      <td>13852</td>\n",
              "      <td>15049</td>\n",
              "      <td>15049</td>\n",
              "      <td>17847</td>\n",
              "      <td>17847</td>\n",
              "      <td>21412</td>\n",
              "      <td>21412</td>\n",
              "      <td>27238</td>\n",
              "    </tr>\n",
              "    <tr>\n",
              "      <th>1</th>\n",
              "      <td>1</td>\n",
              "      <td>67</td>\n",
              "      <td>61</td>\n",
              "      <td>167</td>\n",
              "      <td>131</td>\n",
              "      <td>98</td>\n",
              "      <td>70</td>\n",
              "      <td>101</td>\n",
              "      <td>147</td>\n",
              "      <td>140</td>\n",
              "      <td>...</td>\n",
              "      <td>15183</td>\n",
              "      <td>18266</td>\n",
              "      <td>18266</td>\n",
              "      <td>21658</td>\n",
              "      <td>21658</td>\n",
              "      <td>25621</td>\n",
              "      <td>25621</td>\n",
              "      <td>29981</td>\n",
              "      <td>29981</td>\n",
              "      <td>34291</td>\n",
              "    </tr>\n",
              "    <tr>\n",
              "      <th>2</th>\n",
              "      <td>1</td>\n",
              "      <td>214</td>\n",
              "      <td>185</td>\n",
              "      <td>140</td>\n",
              "      <td>217</td>\n",
              "      <td>168</td>\n",
              "      <td>121</td>\n",
              "      <td>112</td>\n",
              "      <td>128</td>\n",
              "      <td>179</td>\n",
              "      <td>...</td>\n",
              "      <td>28633</td>\n",
              "      <td>32138</td>\n",
              "      <td>32138</td>\n",
              "      <td>34964</td>\n",
              "      <td>34964</td>\n",
              "      <td>36508</td>\n",
              "      <td>36508</td>\n",
              "      <td>38672</td>\n",
              "      <td>38672</td>\n",
              "      <td>40664</td>\n",
              "    </tr>\n",
              "    <tr>\n",
              "      <th>3</th>\n",
              "      <td>1</td>\n",
              "      <td>191</td>\n",
              "      <td>186</td>\n",
              "      <td>185</td>\n",
              "      <td>154</td>\n",
              "      <td>11</td>\n",
              "      <td>2</td>\n",
              "      <td>1</td>\n",
              "      <td>2</td>\n",
              "      <td>18</td>\n",
              "      <td>...</td>\n",
              "      <td>19978</td>\n",
              "      <td>22309</td>\n",
              "      <td>22309</td>\n",
              "      <td>25315</td>\n",
              "      <td>25315</td>\n",
              "      <td>28806</td>\n",
              "      <td>28806</td>\n",
              "      <td>33447</td>\n",
              "      <td>33447</td>\n",
              "      <td>38013</td>\n",
              "    </tr>\n",
              "    <tr>\n",
              "      <th>4</th>\n",
              "      <td>1</td>\n",
              "      <td>245</td>\n",
              "      <td>199</td>\n",
              "      <td>149</td>\n",
              "      <td>148</td>\n",
              "      <td>90</td>\n",
              "      <td>69</td>\n",
              "      <td>100</td>\n",
              "      <td>83</td>\n",
              "      <td>121</td>\n",
              "      <td>...</td>\n",
              "      <td>16529</td>\n",
              "      <td>17651</td>\n",
              "      <td>17651</td>\n",
              "      <td>18739</td>\n",
              "      <td>18739</td>\n",
              "      <td>20998</td>\n",
              "      <td>20998</td>\n",
              "      <td>24066</td>\n",
              "      <td>24066</td>\n",
              "      <td>27588</td>\n",
              "    </tr>\n",
              "  </tbody>\n",
              "</table>\n",
              "<p>5 rows × 17713 columns</p>\n",
              "</div>\n",
              "      <button class=\"colab-df-convert\" onclick=\"convertToInteractive('df-bd1efee2-0883-4719-83bf-5b234f5096cc')\"\n",
              "              title=\"Convert this dataframe to an interactive table.\"\n",
              "              style=\"display:none;\">\n",
              "        \n",
              "  <svg xmlns=\"http://www.w3.org/2000/svg\" height=\"24px\"viewBox=\"0 0 24 24\"\n",
              "       width=\"24px\">\n",
              "    <path d=\"M0 0h24v24H0V0z\" fill=\"none\"/>\n",
              "    <path d=\"M18.56 5.44l.94 2.06.94-2.06 2.06-.94-2.06-.94-.94-2.06-.94 2.06-2.06.94zm-11 1L8.5 8.5l.94-2.06 2.06-.94-2.06-.94L8.5 2.5l-.94 2.06-2.06.94zm10 10l.94 2.06.94-2.06 2.06-.94-2.06-.94-.94-2.06-.94 2.06-2.06.94z\"/><path d=\"M17.41 7.96l-1.37-1.37c-.4-.4-.92-.59-1.43-.59-.52 0-1.04.2-1.43.59L10.3 9.45l-7.72 7.72c-.78.78-.78 2.05 0 2.83L4 21.41c.39.39.9.59 1.41.59.51 0 1.02-.2 1.41-.59l7.78-7.78 2.81-2.81c.8-.78.8-2.07 0-2.86zM5.41 20L4 18.59l7.72-7.72 1.47 1.35L5.41 20z\"/>\n",
              "  </svg>\n",
              "      </button>\n",
              "      \n",
              "  <style>\n",
              "    .colab-df-container {\n",
              "      display:flex;\n",
              "      flex-wrap:wrap;\n",
              "      gap: 12px;\n",
              "    }\n",
              "\n",
              "    .colab-df-convert {\n",
              "      background-color: #E8F0FE;\n",
              "      border: none;\n",
              "      border-radius: 50%;\n",
              "      cursor: pointer;\n",
              "      display: none;\n",
              "      fill: #1967D2;\n",
              "      height: 32px;\n",
              "      padding: 0 0 0 0;\n",
              "      width: 32px;\n",
              "    }\n",
              "\n",
              "    .colab-df-convert:hover {\n",
              "      background-color: #E2EBFA;\n",
              "      box-shadow: 0px 1px 2px rgba(60, 64, 67, 0.3), 0px 1px 3px 1px rgba(60, 64, 67, 0.15);\n",
              "      fill: #174EA6;\n",
              "    }\n",
              "\n",
              "    [theme=dark] .colab-df-convert {\n",
              "      background-color: #3B4455;\n",
              "      fill: #D2E3FC;\n",
              "    }\n",
              "\n",
              "    [theme=dark] .colab-df-convert:hover {\n",
              "      background-color: #434B5C;\n",
              "      box-shadow: 0px 1px 3px 1px rgba(0, 0, 0, 0.15);\n",
              "      filter: drop-shadow(0px 1px 2px rgba(0, 0, 0, 0.3));\n",
              "      fill: #FFFFFF;\n",
              "    }\n",
              "  </style>\n",
              "\n",
              "      <script>\n",
              "        const buttonEl =\n",
              "          document.querySelector('#df-bd1efee2-0883-4719-83bf-5b234f5096cc button.colab-df-convert');\n",
              "        buttonEl.style.display =\n",
              "          google.colab.kernel.accessAllowed ? 'block' : 'none';\n",
              "\n",
              "        async function convertToInteractive(key) {\n",
              "          const element = document.querySelector('#df-bd1efee2-0883-4719-83bf-5b234f5096cc');\n",
              "          const dataTable =\n",
              "            await google.colab.kernel.invokeFunction('convertToInteractive',\n",
              "                                                     [key], {});\n",
              "          if (!dataTable) return;\n",
              "\n",
              "          const docLinkHtml = 'Like what you see? Visit the ' +\n",
              "            '<a target=\"_blank\" href=https://colab.research.google.com/notebooks/data_table.ipynb>data table notebook</a>'\n",
              "            + ' to learn more about interactive tables.';\n",
              "          element.innerHTML = '';\n",
              "          dataTable['output_type'] = 'display_data';\n",
              "          await google.colab.output.renderOutput(dataTable, element);\n",
              "          const docLink = document.createElement('div');\n",
              "          docLink.innerHTML = docLinkHtml;\n",
              "          element.appendChild(docLink);\n",
              "        }\n",
              "      </script>\n",
              "    </div>\n",
              "  </div>\n",
              "  "
            ]
          },
          "metadata": {},
          "execution_count": 2
        }
      ]
    },
    {
      "cell_type": "code",
      "source": [
        "df.shape"
      ],
      "metadata": {
        "colab": {
          "base_uri": "https://localhost:8080/"
        },
        "id": "BlXlSxVwRDE5",
        "outputId": "5a9e3b9c-9d3a-46d1-ed29-02509bbd1d51"
      },
      "execution_count": null,
      "outputs": [
        {
          "output_type": "execute_result",
          "data": {
            "text/plain": [
              "(22880, 17713)"
            ]
          },
          "metadata": {},
          "execution_count": 4
        }
      ]
    },
    {
      "cell_type": "code",
      "source": [
        "df[\"faced\"].value_counts()"
      ],
      "metadata": {
        "colab": {
          "base_uri": "https://localhost:8080/"
        },
        "id": "AsSjFlhaREK1",
        "outputId": "1f81aafa-3a9a-4eba-d881-d901638c7cc3"
      },
      "execution_count": null,
      "outputs": [
        {
          "output_type": "execute_result",
          "data": {
            "text/plain": [
              "1    11440\n",
              "0    11440\n",
              "Name: faced, dtype: int64"
            ]
          },
          "metadata": {},
          "execution_count": 5
        }
      ]
    },
    {
      "cell_type": "code",
      "source": [
        "#Decision Tree\n",
        "\n",
        "\n",
        "from sklearn.tree import DecisionTreeClassifier\n",
        "from sklearn.model_selection import train_test_split\n",
        "from sklearn.metrics import accuracy_score\n",
        "\n",
        "X=df.iloc[:, 1:]\n",
        "y=df[[\"faced\"]]\n",
        "X_train, X_test, y_train, y_test = train_test_split(X, y, test_size=0.30, random_state=0)\n",
        "\n",
        "clf = DecisionTreeClassifier(random_state=0)\n",
        "clf.fit(X_train, y_train)\n",
        "\n",
        "predictions = clf.predict(X_test)\n",
        "print(round(accuracy_score(y_test, predictions),3))"
      ],
      "metadata": {
        "colab": {
          "base_uri": "https://localhost:8080/"
        },
        "id": "ltXclkA5RHpE",
        "outputId": "afcebb12-802b-4b97-86cd-99441e1de1ae"
      },
      "execution_count": null,
      "outputs": [
        {
          "output_type": "stream",
          "name": "stdout",
          "text": [
            "0.936\n"
          ]
        }
      ]
    },
    {
      "cell_type": "code",
      "source": [
        "#(5)-fold cross validation\n",
        "from sklearn.model_selection import cross_val_score\n",
        "\n",
        "X=df.iloc[:, 1:]\n",
        "y=df[[\"faced\"]]\n",
        "X_train, X_test, y_train, y_test = train_test_split(X, y, test_size=0.30, random_state=0)\n",
        "\n",
        "clf = DecisionTreeClassifier(random_state=0)\n",
        "scores=cross_val_score(clf, X, y, cv=5)\n",
        "print(\"Mean score of %0.3f with a standard deviation of %0.3f\" % (scores.mean(), scores.std()))\n"
      ],
      "metadata": {
        "id": "OYlASFdNUJpZ",
        "colab": {
          "base_uri": "https://localhost:8080/"
        },
        "outputId": "e39b8043-a85a-4b35-c403-e584006d9f5c"
      },
      "execution_count": null,
      "outputs": [
        {
          "output_type": "stream",
          "name": "stdout",
          "text": [
            "Mean score of 0.933 with a standard deviation of 0.003\n"
          ]
        }
      ]
    },
    {
      "cell_type": "code",
      "source": [
        "X.columns"
      ],
      "metadata": {
        "colab": {
          "base_uri": "https://localhost:8080/"
        },
        "id": "j5C2IYNPuvFY",
        "outputId": "10a75542-4276-4d75-8a2f-3de7c918be36"
      },
      "execution_count": null,
      "outputs": [
        {
          "output_type": "execute_result",
          "data": {
            "text/plain": [
              "Index(['rect2_hort_1x2_(0,0)', 'rect2_hort_1x2_(0,2)', 'rect2_hort_1x2_(0,4)',\n",
              "       'rect2_hort_1x2_(0,6)', 'rect2_hort_1x2_(0,8)', 'rect2_hort_1x2_(0,10)',\n",
              "       'rect2_hort_1x2_(0,12)', 'rect2_hort_1x2_(0,14)',\n",
              "       'rect2_hort_1x2_(0,16)', 'rect2_hort_1x2_(0,18)',\n",
              "       ...\n",
              "       'rect4_diag_24x15_(0,0)', 'rect4_diag_24x16_(0,0)',\n",
              "       'rect4_diag_24x17_(0,0)', 'rect4_diag_24x18_(0,0)',\n",
              "       'rect4_diag_24x19_(0,0)', 'rect4_diag_24x20_(0,0)',\n",
              "       'rect4_diag_24x21_(0,0)', 'rect4_diag_24x22_(0,0)',\n",
              "       'rect4_diag_24x23_(0,0)', 'rect4_diag_24x24_(0,0)'],\n",
              "      dtype='object', length=17712)"
            ]
          },
          "metadata": {},
          "execution_count": 6
        }
      ]
    },
    {
      "cell_type": "code",
      "source": [
        "y.columns"
      ],
      "metadata": {
        "colab": {
          "base_uri": "https://localhost:8080/"
        },
        "id": "eKmsNnt_uwiT",
        "outputId": "61fb5867-2924-4b44-da9c-490dde390acd"
      },
      "execution_count": null,
      "outputs": [
        {
          "output_type": "execute_result",
          "data": {
            "text/plain": [
              "Index(['faced'], dtype='object')"
            ]
          },
          "metadata": {},
          "execution_count": 7
        }
      ]
    },
    {
      "cell_type": "code",
      "source": [
        "# From simple decision tree we get an 5-fold cv mean accuracy of 93.3% with very little sd of 0.003 "
      ],
      "metadata": {
        "id": "Fb5mB904u2u-"
      },
      "execution_count": null,
      "outputs": []
    },
    {
      "cell_type": "code",
      "source": [
        "# Ensemble trees"
      ],
      "metadata": {
        "id": "KZOrwM7Nva7L"
      },
      "execution_count": null,
      "outputs": []
    },
    {
      "cell_type": "code",
      "source": [
        "# Bagging (Random Forest)\n",
        "from sklearn.ensemble import RandomForestClassifier\n",
        "import numpy as np\n",
        "\n",
        "X=df.iloc[:, 1:]\n",
        "y=df[[\"faced\"]]\n",
        "X_train, X_test, y_train, y_test = train_test_split(X, y, test_size=0.30, random_state=0)\n",
        "\n",
        "rf_clf = RandomForestClassifier(random_state=0)\n",
        "scores=cross_val_score(rf_clf, X, np.ravel(y), cv=5)\n",
        "print(\"Mean score of %0.3f with a standard deviation of %0.3f\" % (scores.mean(), scores.std()))\n",
        "\n"
      ],
      "metadata": {
        "colab": {
          "base_uri": "https://localhost:8080/"
        },
        "id": "3CwJ78S1vgzB",
        "outputId": "930ef56d-43a1-408a-f272-2d4ec5869585"
      },
      "execution_count": null,
      "outputs": [
        {
          "output_type": "stream",
          "name": "stdout",
          "text": [
            "Mean score of 0.979 with a standard deviation of 0.002\n"
          ]
        }
      ]
    },
    {
      "cell_type": "code",
      "source": [
        "# From Random Forest we get an 5-fold cv mean accuracy of 97.9% with very little sd of 0.002 "
      ],
      "metadata": {
        "id": "35W2wUJc1OsW"
      },
      "execution_count": null,
      "outputs": []
    },
    {
      "cell_type": "code",
      "source": [
        "# Boosting (AdaBoost) (Decision tree estimator with max_depth=1 (decision stumps))\n",
        "from sklearn.ensemble import AdaBoostClassifier\n",
        "\n",
        "X=df.iloc[:, 1:]\n",
        "y=df[[\"faced\"]]\n",
        "X_train, X_test, y_train, y_test = train_test_split(X, y, test_size=0.30, random_state=0)\n",
        "\n",
        "\n",
        "ab_clf = AdaBoostClassifier(random_state=0)\n",
        "scores=cross_val_score(ab_clf, X, np.ravel(y), cv=5)\n",
        "print(\"Mean score of %0.3f with a standard deviation of %0.3f\" % (scores.mean(), scores.std()))\n"
      ],
      "metadata": {
        "colab": {
          "base_uri": "https://localhost:8080/"
        },
        "id": "2RXRpGrZ7jR1",
        "outputId": "34e8dc02-673d-4bb0-ae2f-0f781428dea8"
      },
      "execution_count": null,
      "outputs": [
        {
          "output_type": "stream",
          "name": "stdout",
          "text": [
            "Mean score of 0.961 with a standard deviation of 0.002\n"
          ]
        }
      ]
    },
    {
      "cell_type": "code",
      "source": [
        "# From AdaBoost we get an 5-fold cv mean accuracy of 96.1% with very little sd of 0.002 "
      ],
      "metadata": {
        "id": "kYwJBVnj1Y9L"
      },
      "execution_count": null,
      "outputs": []
    }
  ]
}